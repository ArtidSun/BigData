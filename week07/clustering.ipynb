{
 "cells": [
  {
   "cell_type": "code",
   "execution_count": 1,
   "id": "9e35e52a-6e5d-4bca-b659-2a8618f7e9e2",
   "metadata": {},
   "outputs": [
    {
     "data": {
      "image/png": "[encoded data removed]",
      "text/plain": [
       "<Figure size 640x480 with 1 Axes>"
      ]
     },
     "metadata": {},
     "output_type": "display_data"
    }
   ],
   "source": [
    "import numpy as np\n",
    "import matplotlib.pyplot as plt\n",
    "from scipy.cluster.hierarchy import dendrogram, linkage,fcluster\n",
    "from scipy.spatial import distance_matrix\n",
    "\n",
    "x = [4, 5, 10, 4, 3, 11, 14 , 6, 10, 12]\n",
    "y = [15, 14, 19, 12, 11, 20, 15, 17, 16, 16]\n",
    "store = ['A','B','C','D','E','F','G','H','I','J']\n",
    "data = list(zip(x, y))\n",
    "\n",
    "plt.scatter(x, y)\n",
    "plt.xlim([0,16])\n",
    "plt.ylim([8,22])\n",
    "plt.axis('equal')\n",
    "plt.xlabel('Apples')\n",
    "plt.ylabel('Oranges')\n",
    "for i in range(10):\n",
    "    plt.annotate(store[i],[x[i],y[i]])\n",
    "plt.show()\n"
   ]
  },
  {
   "cell_type": "code",
   "execution_count": null,
   "id": "e1db4ef4-2ec6-44d1-bc43-ad3ba6de0e3f",
   "metadata": {},
   "outputs": [],
   "source": []
  },
  {
   "cell_type": "code",
   "execution_count": null,
   "id": "751247c2-b854-476c-984b-a6bf4bd5a9e3",
   "metadata": {},
   "outputs": [],
   "source": [
    "distance_matrix(data,data).round(2)"
   ]
  },
  {
   "cell_type": "markdown",
   "id": "99300bd4-4573-4e16-a5d1-d9ed818f06bd",
   "metadata": {},
   "source": [
    "# Hierarchical Clustering"
   ]
  },
  {
   "cell_type": "code",
   "execution_count": 2,
   "id": "de0c4b64-f2dc-4551-a484-f9f4a195afa0",
   "metadata": {},
   "outputs": [
    {
     "data": {
      "image/png": "[encoded data removed]",
      "text/plain": [
       "<Figure size 640x480 with 1 Axes>"
      ]
     },
     "metadata": {},
     "output_type": "display_data"
    }
   ],
   "source": [
    "import numpy as np\n",
    "import matplotlib.pyplot as plt\n",
    "from scipy.cluster.hierarchy import dendrogram, linkage, fcluster\n",
    "from scipy.spatial import distance_matrix\n",
    "import pandas as pd\n",
    "\n",
    "x = [4, 5, 10, 4, 3, 11, 14 , 6, 10, 12]\n",
    "y = [15, 14, 19, 12, 11, 20, 15, 17, 16, 16]\n",
    "store = ['A','B','C','D','E','F','G','H','I','J']\n",
    "\n",
    "df = pd.DataFrame() \n",
    "df['Store'] = store\n",
    "df['Apples'] = x\n",
    "df['Oranges'] = y\n",
    "data = df[['Apples','Oranges']]\n",
    "\n",
    "linkage_data = linkage(data, method='single', metric='euclidean')\n",
    "dendrogram(linkage_data,labels=df['Store'].to_list())\n",
    "\n",
    "plt.title(\"method='single'\")\n",
    "plt.show()"
   ]
  },
  {
   "cell_type": "code",
   "execution_count": 3,
   "id": "35c1a041-0a05-4e7f-b1de-bc69eba21024",
   "metadata": {},
   "outputs": [
    {
     "data": {
      "text/html": [
       "<div>\n",
       "<style scoped>\n",
       "    .dataframe tbody tr th:only-of-type {\n",
       "        vertical-align: middle;\n",
       "    }\n",
       "\n",
       "    .dataframe tbody tr th {\n",
       "        vertical-align: top;\n",
       "    }\n",
       "\n",
       "    .dataframe thead th {\n",
       "        text-align: right;\n",
       "    }\n",
       "</style>\n",
       "<table border=\"1\" class=\"dataframe\">\n",
       "  <thead>\n",
       "    <tr style=\"text-align: right;\">\n",
       "      <th></th>\n",
       "      <th>Apples</th>\n",
       "      <th>Oranges</th>\n",
       "    </tr>\n",
       "  </thead>\n",
       "  <tbody>\n",
       "    <tr>\n",
       "      <th>0</th>\n",
       "      <td>4</td>\n",
       "      <td>15</td>\n",
       "    </tr>\n",
       "    <tr>\n",
       "      <th>1</th>\n",
       "      <td>5</td>\n",
       "      <td>14</td>\n",
       "    </tr>\n",
       "    <tr>\n",
       "      <th>2</th>\n",
       "      <td>10</td>\n",
       "      <td>19</td>\n",
       "    </tr>\n",
       "    <tr>\n",
       "      <th>3</th>\n",
       "      <td>4</td>\n",
       "      <td>12</td>\n",
       "    </tr>\n",
       "    <tr>\n",
       "      <th>4</th>\n",
       "      <td>3</td>\n",
       "      <td>11</td>\n",
       "    </tr>\n",
       "    <tr>\n",
       "      <th>5</th>\n",
       "      <td>11</td>\n",
       "      <td>20</td>\n",
       "    </tr>\n",
       "    <tr>\n",
       "      <th>6</th>\n",
       "      <td>14</td>\n",
       "      <td>15</td>\n",
       "    </tr>\n",
       "    <tr>\n",
       "      <th>7</th>\n",
       "      <td>6</td>\n",
       "      <td>17</td>\n",
       "    </tr>\n",
       "    <tr>\n",
       "      <th>8</th>\n",
       "      <td>10</td>\n",
       "      <td>16</td>\n",
       "    </tr>\n",
       "    <tr>\n",
       "      <th>9</th>\n",
       "      <td>12</td>\n",
       "      <td>16</td>\n",
       "    </tr>\n",
       "  </tbody>\n",
       "</table>\n",
       "</div>"
      ],
      "text/plain": [
       "   Apples  Oranges\n",
       "0       4       15\n",
       "1       5       14\n",
       "2      10       19\n",
       "3       4       12\n",
       "4       3       11\n",
       "5      11       20\n",
       "6      14       15\n",
       "7       6       17\n",
       "8      10       16\n",
       "9      12       16"
      ]
     },
     "execution_count": 3,
     "metadata": {},
     "output_type": "execute_result"
    }
   ],
   "source": [
    "data"
   ]
  },
  {
   "cell_type": "code",
   "execution_count": 4,
   "id": "65ca10d0-6365-4fcd-bcc5-a059cc072ce9",
   "metadata": {},
   "outputs": [
    {
     "data": {
      "text/html": [
       "<div>\n",
       "<style scoped>\n",
       "    .dataframe tbody tr th:only-of-type {\n",
       "        vertical-align: middle;\n",
       "    }\n",
       "\n",
       "    .dataframe tbody tr th {\n",
       "        vertical-align: top;\n",
       "    }\n",
       "\n",
       "    .dataframe thead th {\n",
       "        text-align: right;\n",
       "    }\n",
       "</style>\n",
       "<table border=\"1\" class=\"dataframe\">\n",
       "  <thead>\n",
       "    <tr style=\"text-align: right;\">\n",
       "      <th></th>\n",
       "      <th>Store</th>\n",
       "      <th>Apples</th>\n",
       "      <th>Oranges</th>\n",
       "    </tr>\n",
       "  </thead>\n",
       "  <tbody>\n",
       "    <tr>\n",
       "      <th>0</th>\n",
       "      <td>A</td>\n",
       "      <td>4</td>\n",
       "      <td>15</td>\n",
       "    </tr>\n",
       "    <tr>\n",
       "      <th>1</th>\n",
       "      <td>B</td>\n",
       "      <td>5</td>\n",
       "      <td>14</td>\n",
       "    </tr>\n",
       "    <tr>\n",
       "      <th>2</th>\n",
       "      <td>C</td>\n",
       "      <td>10</td>\n",
       "      <td>19</td>\n",
       "    </tr>\n",
       "    <tr>\n",
       "      <th>3</th>\n",
       "      <td>D</td>\n",
       "      <td>4</td>\n",
       "      <td>12</td>\n",
       "    </tr>\n",
       "    <tr>\n",
       "      <th>4</th>\n",
       "      <td>E</td>\n",
       "      <td>3</td>\n",
       "      <td>11</td>\n",
       "    </tr>\n",
       "    <tr>\n",
       "      <th>5</th>\n",
       "      <td>F</td>\n",
       "      <td>11</td>\n",
       "      <td>20</td>\n",
       "    </tr>\n",
       "    <tr>\n",
       "      <th>6</th>\n",
       "      <td>G</td>\n",
       "      <td>14</td>\n",
       "      <td>15</td>\n",
       "    </tr>\n",
       "    <tr>\n",
       "      <th>7</th>\n",
       "      <td>H</td>\n",
       "      <td>6</td>\n",
       "      <td>17</td>\n",
       "    </tr>\n",
       "    <tr>\n",
       "      <th>8</th>\n",
       "      <td>I</td>\n",
       "      <td>10</td>\n",
       "      <td>16</td>\n",
       "    </tr>\n",
       "    <tr>\n",
       "      <th>9</th>\n",
       "      <td>J</td>\n",
       "      <td>12</td>\n",
       "      <td>16</td>\n",
       "    </tr>\n",
       "  </tbody>\n",
       "</table>\n",
       "</div>"
      ],
      "text/plain": [
       "  Store  Apples  Oranges\n",
       "0     A       4       15\n",
       "1     B       5       14\n",
       "2     C      10       19\n",
       "3     D       4       12\n",
       "4     E       3       11\n",
       "5     F      11       20\n",
       "6     G      14       15\n",
       "7     H       6       17\n",
       "8     I      10       16\n",
       "9     J      12       16"
      ]
     },
     "execution_count": 4,
     "metadata": {},
     "output_type": "execute_result"
    }
   ],
   "source": [
    "df"
   ]
  },
  {
   "cell_type": "code",
   "execution_count": 5,
   "id": "3a68b699-1e6a-43fe-abc5-b8667bfa7319",
   "metadata": {},
   "outputs": [],
   "source": [
    "cluster_id = fcluster(linkage_data, t=2.5, criterion='distance')"
   ]
  },
  {
   "cell_type": "code",
   "execution_count": 6,
   "id": "7a52a483-c620-4ba8-8985-c2f62bd45dcc",
   "metadata": {},
   "outputs": [
    {
     "data": {
      "text/plain": [
       "array([1, 1, 3, 1, 1, 3, 4, 2, 4, 4], dtype=int32)"
      ]
     },
     "execution_count": 6,
     "metadata": {},
     "output_type": "execute_result"
    }
   ],
   "source": [
    "cluster_id"
   ]
  },
  {
   "cell_type": "code",
   "execution_count": 5,
   "id": "f00a3f77-4556-4785-90f2-39fbede7639c",
   "metadata": {},
   "outputs": [
    {
     "data": {
      "image/png": "[encoded data removed]",
      "text/plain": [
       "<Figure size 432x288 with 1 Axes>"
      ]
     },
     "metadata": {
      "needs_background": "light"
     },
     "output_type": "display_data"
    }
   ],
   "source": [
    "plt.scatter(df['Apples'],df['Oranges'], c=cluster_id)\n",
    "plt.show()"
   ]
  },
  {
   "cell_type": "code",
   "execution_count": 3,
   "id": "15a3151f-dd61-45dc-b81a-ecbb53e44591",
   "metadata": {},
   "outputs": [
    {
     "data": {
      "image/png": "[encoded data removed]",
      "text/plain": [
       "<Figure size 640x480 with 1 Axes>"
      ]
     },
     "metadata": {},
     "output_type": "display_data"
    }
   ],
   "source": [
    "linkage_data = linkage(data, method='average', metric='euclidean')\n",
    "dendrogram(linkage_data,labels=['A','B','C','D','E','F','G','H','I','J'])\n",
    "plt.title(\"method='average'\")\n",
    "plt.show()"
   ]
  },
  {
   "cell_type": "code",
   "execution_count": 4,
   "id": "c31f7757-64f1-4471-b594-65fbc15a708f",
   "metadata": {},
   "outputs": [
    {
     "data": {
      "image/png": "[encoded data removed]",
      "text/plain": [
       "<Figure size 640x480 with 1 Axes>"
      ]
     },
     "metadata": {},
     "output_type": "display_data"
    }
   ],
   "source": [
    "linkage_data = linkage(data, method='complete', metric='euclidean')\n",
    "dendrogram(linkage_data,labels=['A','B','C','D','E','F','G','H','I','J'])\n",
    "plt.title(\"method='complete'\")\n",
    "plt.show()"
   ]
  },
  {
   "cell_type": "code",
   "execution_count": 5,
   "id": "0ed0a18d-20db-434a-8ec9-2bf9c4fb294d",
   "metadata": {},
   "outputs": [
    {
     "data": {
      "image/png": "[encoded data removed]",
      "text/plain": [
       "<Figure size 640x480 with 1 Axes>"
      ]
     },
     "metadata": {},
     "output_type": "display_data"
    }
   ],
   "source": [
    "linkage_data = linkage(data, method='centroid', metric='euclidean')\n",
    "dendrogram(linkage_data,labels=['A','B','C','D','E','F','G','H','I','J'])\n",
    "plt.title(\"method='centroid'\")\n",
    "plt.show()"
   ]
  },
  {
   "cell_type": "code",
   "execution_count": 6,
   "id": "aa7963d0-339c-4ee6-b592-f9494823b48d",
   "metadata": {},
   "outputs": [
    {
     "data": {
      "image/png": "[encoded data removed]",
      "text/plain": [
       "<Figure size 640x480 with 1 Axes>"
      ]
     },
     "metadata": {},
     "output_type": "display_data"
    }
   ],
   "source": [
    "linkage_data = linkage(data, method='ward', metric='euclidean')\n",
    "dendrogram(linkage_data,labels=['A','B','C','D','E','F','G','H','I','J'])\n",
    "plt.title(\"method='ward'\")\n",
    "plt.show()"
   ]
  },
  {
   "cell_type": "markdown",
   "id": "f6b143b1-c5be-4597-97f0-46a96b5b20a9",
   "metadata": {
    "tags": []
   },
   "source": [
    "# K-Means"
   ]
  },
  {
   "cell_type": "code",
   "execution_count": 2,
   "id": "eb58948f-7ff4-4757-898f-ffca97538c17",
   "metadata": {},
   "outputs": [
    {
     "name": "stdout",
     "output_type": "stream",
     "text": [
      "[[11.4 17.2]\n",
      " [ 4.4 13.8]]\n"
     ]
    },
    {
     "data": {
      "image/png": "[encoded data removed]",
      "text/plain": [
       "<Figure size 640x480 with 1 Axes>"
      ]
     },
     "metadata": {},
     "output_type": "display_data"
    }
   ],
   "source": [
    "import numpy as np\n",
    "import matplotlib.pyplot as plt\n",
    "from sklearn import cluster\n",
    "import pandas as pd\n",
    "\n",
    "x = [4, 5, 10, 4, 3, 11, 14 , 6, 10, 12]\n",
    "y = [15, 14, 19, 12, 11, 20, 15, 17, 16, 16]\n",
    "store = ['A','B','C','D','E','F','G','H','I','J']\n",
    "\n",
    "df = pd.DataFrame() \n",
    "df['Store'] = store\n",
    "df['Apples'] = x\n",
    "df['Oranges'] = y\n",
    "data = df[['Apples','Oranges']]\n",
    "\n",
    "model_kmeans = cluster.KMeans(n_clusters=2, max_iter=50, random_state=1)\n",
    "model_kmeans.fit(data)\n",
    "\n",
    "df['cluster_id'] = model_kmeans.labels_\n",
    "\n",
    "centroids = model_kmeans.cluster_centers_\n",
    "print(centroids)\n",
    "\n",
    "plt.scatter(df['Apples'],df['Oranges'], c=df['cluster_id'])\n",
    "plt.scatter(centroids[:,0],centroids[:,1],marker='X', c='r')\n",
    "plt.show()"
   ]
  },
  {
   "cell_type": "markdown",
   "id": "53a72db2-976c-4e7e-aa8f-1dea4c2203e2",
   "metadata": {},
   "source": [
    "# Application : Image Segmentation using Clustering"
   ]
  },
  {
   "cell_type": "code",
   "execution_count": null,
   "id": "73e66342-b5af-4c43-9a04-c599eabef5ad",
   "metadata": {},
   "outputs": [],
   "source": [
    "from PIL import Image \n",
    "import matplotlib.pyplot as plt\n",
    "from numpy import asarray\n",
    "from sklearn import cluster\n",
    "import numpy as np  \n",
    "\n",
    "im = Image.open(\"img-bird.jpg\")\n",
    "#display(im)"
   ]
  },
  {
   "cell_type": "code",
   "execution_count": null,
   "id": "46850f1b-12cc-4d38-a2cd-c3717ec67da1",
   "metadata": {
    "tags": []
   },
   "outputs": [],
   "source": [
    "data = asarray(im)\n",
    "imshape = data.shape\n",
    "plt.imshow(data)"
   ]
  },
  {
   "cell_type": "code",
   "execution_count": null,
   "id": "659cb43c-3ce5-4fa7-94e2-0bf8c6c7dbbf",
   "metadata": {},
   "outputs": [],
   "source": [
    "fig = plt.figure()\n",
    "ax = fig.add_subplot(projection='3d')\n",
    "ax.scatter(X[:,0],X[:,1],X[:,2], c = X/255.0, marker='.')\n",
    "plt.show()"
   ]
  },
  {
   "cell_type": "code",
   "execution_count": null,
   "id": "d6eb94f2-0b9f-4415-9739-823f9bd62b93",
   "metadata": {},
   "outputs": [],
   "source": [
    "#K-Means\n",
    "k = 5\n",
    "model_kmeans = cluster.KMeans(n_clusters=k, max_iter=50, random_state=1)\n",
    "model_kmeans.fit(X)\n",
    "cluster_id = model_kmeans.labels_\n",
    "centroids = model_kmeans.cluster_centers_\n",
    "print(centroids)"
   ]
  },
  {
   "cell_type": "code",
   "execution_count": null,
   "id": "c788d44a-f669-4955-8349-e2c4678cc34b",
   "metadata": {},
   "outputs": [],
   "source": [
    "Xnew = X.copy()\n",
    "for i in range(k):\n",
    "    Xnew[cluster_id==i,:] = centroids[i,:]"
   ]
  },
  {
   "cell_type": "code",
   "execution_count": null,
   "id": "0662ad63-b139-4e7b-8058-15e73e7adcaa",
   "metadata": {},
   "outputs": [],
   "source": [
    "fig = plt.figure()\n",
    "ax = fig.add_subplot(projection='3d')\n",
    "ax.scatter(X[:,0],X[:,1],X[:,2], c = Xnew/255.0, marker='.')\n",
    "plt.show()"
   ]
  },
  {
   "cell_type": "code",
   "execution_count": null,
   "id": "dc83d604-9593-44ed-95ba-4316851e2d06",
   "metadata": {},
   "outputs": [],
   "source": [
    "Xnew = Xnew.reshape(imshape)\n",
    "plt.imshow(Xnew)"
   ]
  },
  {
   "cell_type": "markdown",
   "id": "6f4fde30-0abf-4049-9064-d046c3ab7861",
   "metadata": {},
   "source": [
    "# Application on Data\n",
    "\n",
    "https://archive.ics.uci.edu/ml/datasets/HCV+data\n",
    "\n",
    "https://plotly.com/python/radar-chart/\n",
    "\n"
   ]
  },
  {
   "cell_type": "code",
   "execution_count": null,
   "id": "aaad4f12-1661-4d0b-88a1-01288d213dc7",
   "metadata": {
    "tags": []
   },
   "outputs": [],
   "source": [
    "import pandas as pd \n",
    "from sklearn import cluster\n",
    "from sklearn import preprocessing\n",
    "\n",
    "df_org = pd.read_csv('https://archive.ics.uci.edu/ml/machine-learning-databases/00571/hcvdat0.csv')\n",
    "\n",
    "df = df_org[['Age', 'ALB', 'ALP', 'ALT', 'AST',\n",
    "       'BIL', 'CHE', 'CHOL', 'CREA', 'GGT', 'PROT']]\n",
    "\n",
    "df = df.dropna()\n",
    "df = (df - df.mean()) / (df.max() - df.min())\n"
   ]
  },
  {
   "cell_type": "code",
   "execution_count": null,
   "id": "1d7981c3-9a2e-499e-bc49-27e2bd78e2f3",
   "metadata": {},
   "outputs": [],
   "source": [
    "k=3\n",
    "model_kmeans = cluster.KMeans(n_clusters=k, max_iter=50, random_state=1)\n",
    "model_kmeans.fit(df)"
   ]
  },
  {
   "cell_type": "code",
   "execution_count": null,
   "id": "60da7ed9-8129-418f-a6f3-176e924d7cf2",
   "metadata": {},
   "outputs": [],
   "source": [
    "import plotly.graph_objects as go\n",
    "\n",
    "features = ['Age', 'ALB', 'ALP', 'ALT', 'AST', 'BIL', 'CHE', 'CHOL', 'CREA', 'GGT', 'PROT']\n",
    "\n",
    "fig = go.Figure()\n",
    "for i in range(k):\n",
    "    fig.add_trace(go.Scatterpolar(r= model_kmeans.cluster_centers_[i,:], \n",
    "          theta=features, name='Cluster'+str(i) ))\n",
    "\n",
    "fig.update_layout(polar=dict(radialaxis=dict(visible=True)), showlegend=True)\n",
    "fig.show()"
   ]
  },
  {
   "cell_type": "code",
   "execution_count": null,
   "id": "00209d03-2bb4-4f7e-a7c1-47a6c6ecbf24",
   "metadata": {},
   "outputs": [],
   "source": [
    "#https://plotly.com/python/subplots/\n",
    "from plotly.subplots import make_subplots\n",
    "import plotly.graph_objects as go\n",
    "\n",
    "features = ['Age', 'ALB', 'ALP', 'ALT', 'AST', 'BIL', 'CHE', 'CHOL', 'CREA',\n",
    "       'GGT', 'PROT']\n",
    "\n",
    "fig = make_subplots( rows=1, cols=3, subplot_titles=(\"Cluster 0\", \"Cluster 1\", \"Cluster 2\") )\n",
    "\n",
    "fig.add_trace(go.Bar(x=features, y=model_kmeans.cluster_centers_[0,:], ), 1,1)\n",
    "fig.add_trace(go.Bar(x=features, y=model_kmeans.cluster_centers_[1,:], ), 1,2)\n",
    "fig.add_trace(go.Bar(x=features, y=model_kmeans.cluster_centers_[2,:], ), 1,3)\n",
    "\n",
    "fig.update_layout(coloraxis=dict(colorscale='Bluered_r'), showlegend=False)\n",
    "fig.show()\n"
   ]
  },
  {
   "cell_type": "code",
   "execution_count": null,
   "id": "abac4524-271a-4897-be99-528033638ee1",
   "metadata": {},
   "outputs": [],
   "source": []
  }
 ],
 "metadata": {
  "kernelspec": {
   "display_name": "Python 3 (ipykernel)",
   "language": "python",
   "name": "python3"
  },
  "language_info": {
   "codemirror_mode": {
    "name": "ipython",
    "version": 3
   },
   "file_extension": ".py",
   "mimetype": "text/x-python",
   "name": "python",
   "nbconvert_exporter": "python",
   "pygments_lexer": "ipython3",
   "version": "3.10.6"
  }
 },
 "nbformat": 4,
 "nbformat_minor": 5
}
